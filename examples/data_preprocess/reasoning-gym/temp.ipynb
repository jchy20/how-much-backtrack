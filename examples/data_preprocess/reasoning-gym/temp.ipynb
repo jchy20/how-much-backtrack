{
 "cells": [
  {
   "cell_type": "code",
   "execution_count": 1,
   "metadata": {},
   "outputs": [
    {
     "name": "stderr",
     "output_type": "stream",
     "text": [
      "/home/users/hc387/miniconda3/envs/reasoning_gym/lib/python3.11/site-packages/tqdm/auto.py:21: TqdmWarning: IProgress not found. Please update jupyter and ipywidgets. See https://ipywidgets.readthedocs.io/en/stable/user_install.html\n",
      "  from .autonotebook import tqdm as notebook_tqdm\n"
     ]
    }
   ],
   "source": [
    "import re\n",
    "import os\n",
    "import datasets\n",
    "import argparse\n",
    "import reasoning_gym"
   ]
  },
  {
   "cell_type": "code",
   "execution_count": 2,
   "metadata": {},
   "outputs": [],
   "source": [
    "train_dataset = reasoning_gym.create_dataset(\"advanced_geometry\", size=10000, seed=42, task_types=['incircle_radius'])"
   ]
  },
  {
   "cell_type": "code",
   "execution_count": 4,
   "metadata": {},
   "outputs": [
    {
     "name": "stdout",
     "output_type": "stream",
     "text": [
      "Consider triangle ABC with coordinates A=(-10, -2), B=(-3, -3), and C=(-6, -7). Compute the radius of its incircle.\n",
      "1.678\n",
      "Find the incircle radius of triangle ABC whose vertices are A=(-1, -6), B=(4, 1), and C=(-7, 4).\n",
      "2.905\n",
      "Find the incircle radius of triangle ABC whose vertices are A=(6, 7), B=(-7, -5), and C=(2, -3).\n",
      "2.176\n",
      "Consider triangle ABC with coordinates A=(3, 5), B=(-2, -8), and C=(-1, 0). Compute the radius of its incircle.\n",
      "0.951\n",
      "Consider triangle ABC with coordinates A=(2, -9), B=(8, 8), and C=(-3, 10). Compute the radius of its incircle.\n",
      "4.073\n",
      "Find the incircle radius of triangle ABC whose vertices are A=(-8, 3), B=(7, 4), and C=(8, 0).\n",
      "1.721\n",
      "Find the incircle radius of triangle ABC whose vertices are A=(-6, 7), B=(7, -1), and C=(6, -4).\n",
      "1.354\n",
      "Consider triangle ABC with coordinates A=(1, 3), B=(-7, 0), and C=(7, 6). Compute the radius of its incircle.\n",
      "0.197\n",
      "Consider triangle ABC with coordinates A=(-2, 1), B=(10, -3), and C=(5, 0). Compute the radius of its incircle.\n",
      "0.626\n",
      "Find the incircle radius of triangle ABC whose vertices are A=(6, 7), B=(-5, -3), and C=(-3, 7).\n",
      "2.642\n"
     ]
    }
   ],
   "source": [
    "for i, x in enumerate(train_dataset):\n",
    "    question = x['question']\n",
    "    answer = x['answer']\n",
    "    print(question)\n",
    "    print(answer)\n"
   ]
  },
  {
   "cell_type": "code",
   "execution_count": null,
   "metadata": {},
   "outputs": [],
   "source": []
  }
 ],
 "metadata": {
  "kernelspec": {
   "display_name": "reasoning_gym",
   "language": "python",
   "name": "python3"
  },
  "language_info": {
   "codemirror_mode": {
    "name": "ipython",
    "version": 3
   },
   "file_extension": ".py",
   "mimetype": "text/x-python",
   "name": "python",
   "nbconvert_exporter": "python",
   "pygments_lexer": "ipython3",
   "version": "3.11.11"
  }
 },
 "nbformat": 4,
 "nbformat_minor": 2
}
