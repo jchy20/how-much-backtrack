{
 "cells": [
  {
   "cell_type": "code",
   "execution_count": 1,
   "metadata": {},
   "outputs": [
    {
     "name": "stdout",
     "output_type": "stream",
     "text": [
      "data_source                                          openai/gsm8k\n",
      "prompt          [{'content': 'Natalia sold clips to 48 of her ...\n",
      "ability                                                      math\n",
      "reward_model              {'ground_truth': '72', 'style': 'rule'}\n",
      "extra_info      {'answer': 'Natalia sold 48/2 = <<48/2=24>>24 ...\n",
      "Name: 0, dtype: object\n"
     ]
    }
   ],
   "source": [
    "# import from /home/users/hc387/data/countdown/train.parquet, load one data and print it\n",
    "import pandas as pd\n",
    "\n",
    "df = pd.read_parquet('/home/users/hc387/data/gsm8k/train.parquet')\n",
    "\n",
    "# Print the first datapoint\n",
    "print(df.iloc[0])\n",
    "\n"
   ]
  },
  {
   "cell_type": "code",
   "execution_count": 2,
   "metadata": {},
   "outputs": [
    {
     "name": "stdout",
     "output_type": "stream",
     "text": [
      "{'ground_truth': '72', 'style': 'rule'}\n"
     ]
    }
   ],
   "source": [
    "print(df.iloc[0][\"reward_model\"])"
   ]
  },
  {
   "cell_type": "code",
   "execution_count": null,
   "metadata": {},
   "outputs": [],
   "source": []
  }
 ],
 "metadata": {
  "kernelspec": {
   "display_name": "zero",
   "language": "python",
   "name": "python3"
  },
  "language_info": {
   "codemirror_mode": {
    "name": "ipython",
    "version": 3
   },
   "file_extension": ".py",
   "mimetype": "text/x-python",
   "name": "python",
   "nbconvert_exporter": "python",
   "pygments_lexer": "ipython3",
   "version": "3.9.21"
  }
 },
 "nbformat": 4,
 "nbformat_minor": 2
}
